{
 "cells": [
  {
   "cell_type": "markdown",
   "metadata": {},
   "source": [
    "# Comment Processing 01\n",
    "\n",
    "### Comment Count\n",
    "\n",
    "In a first attempt to interpret the comment data retrieved from our data retrieveal we want to count what speaker/party has most comments on their speeches.\n",
    "\n",
    "---\n"
   ]
  },
  {
   "cell_type": "code",
   "execution_count": 54,
   "metadata": {},
   "outputs": [],
   "source": [
    "import pandas as pd\n",
    "from util.getComments import getComments\n",
    "import matplotlib.pyplot as plt\n",
    "import numpy as np\n",
    "from tueplots import bundles\n",
    "from util.jsonIO import importJson\n"
   ]
  },
  {
   "cell_type": "code",
   "execution_count": 55,
   "metadata": {},
   "outputs": [
    {
     "data": {
      "text/html": [
       "<div>\n",
       "<style scoped>\n",
       "    .dataframe tbody tr th:only-of-type {\n",
       "        vertical-align: middle;\n",
       "    }\n",
       "\n",
       "    .dataframe tbody tr th {\n",
       "        vertical-align: top;\n",
       "    }\n",
       "\n",
       "    .dataframe thead th {\n",
       "        text-align: right;\n",
       "    }\n",
       "</style>\n",
       "<table border=\"1\" class=\"dataframe\">\n",
       "  <thead>\n",
       "    <tr style=\"text-align: right;\">\n",
       "      <th></th>\n",
       "      <th>sentences</th>\n",
       "      <th>main-speaker</th>\n",
       "      <th>main-speaker-party</th>\n",
       "    </tr>\n",
       "  </thead>\n",
       "  <tbody>\n",
       "    <tr>\n",
       "      <th>0</th>\n",
       "      <td>[{'speech': 'Guten Morgen, liebe Kolleginnen u...</td>\n",
       "      <td>Hermann Otto Solms</td>\n",
       "      <td>Freie Demokratische Partei</td>\n",
       "    </tr>\n",
       "    <tr>\n",
       "      <th>1</th>\n",
       "      <td>[{'speech': 'Herr Präsident! Liebe Kolleginnen...</td>\n",
       "      <td>Jan Korte</td>\n",
       "      <td>Die Linke</td>\n",
       "    </tr>\n",
       "    <tr>\n",
       "      <th>2</th>\n",
       "      <td>[{'speech': 'Herr Präsident! Sehr verehrte Gäs...</td>\n",
       "      <td>Michael Grosse-Brömer</td>\n",
       "      <td>Christlich Demokratische Union Deutschlands</td>\n",
       "    </tr>\n",
       "    <tr>\n",
       "      <th>3</th>\n",
       "      <td>[{'speech': 'Sehr geehrter Herr Präsident! Mei...</td>\n",
       "      <td>Britta Haßelmann</td>\n",
       "      <td>Bündnis 90/Die Grünen</td>\n",
       "    </tr>\n",
       "    <tr>\n",
       "      <th>4</th>\n",
       "      <td>[{'speech': 'Wir kommen nun zur Abstimmung.'},...</td>\n",
       "      <td>Hermann Otto Solms</td>\n",
       "      <td>Freie Demokratische Partei</td>\n",
       "    </tr>\n",
       "  </tbody>\n",
       "</table>\n",
       "</div>"
      ],
      "text/plain": [
       "                                           sentences           main-speaker  \\\n",
       "0  [{'speech': 'Guten Morgen, liebe Kolleginnen u...     Hermann Otto Solms   \n",
       "1  [{'speech': 'Herr Präsident! Liebe Kolleginnen...              Jan Korte   \n",
       "2  [{'speech': 'Herr Präsident! Sehr verehrte Gäs...  Michael Grosse-Brömer   \n",
       "3  [{'speech': 'Sehr geehrter Herr Präsident! Mei...       Britta Haßelmann   \n",
       "4  [{'speech': 'Wir kommen nun zur Abstimmung.'},...     Hermann Otto Solms   \n",
       "\n",
       "                            main-speaker-party  \n",
       "0                   Freie Demokratische Partei  \n",
       "1                                    Die Linke  \n",
       "2  Christlich Demokratische Union Deutschlands  \n",
       "3                        Bündnis 90/Die Grünen  \n",
       "4                   Freie Demokratische Partei  "
      ]
     },
     "execution_count": 55,
     "metadata": {},
     "output_type": "execute_result"
    }
   ],
   "source": [
    "dataExtracted = importJson(\"speeches.json\")\n",
    "dataExtracted.head()\n"
   ]
  },
  {
   "cell_type": "code",
   "execution_count": 56,
   "metadata": {},
   "outputs": [],
   "source": [
    "# Increase the resolution of all the plots below\n",
    "plt.rcParams.update({\"figure.dpi\": 150})\n",
    "# Use neurips style\n",
    "plt.rcParams.update(bundles.neurips2021())\n"
   ]
  },
  {
   "cell_type": "code",
   "execution_count": 57,
   "metadata": {},
   "outputs": [
    {
     "data": {
      "text/html": [
       "<div>\n",
       "<style scoped>\n",
       "    .dataframe tbody tr th:only-of-type {\n",
       "        vertical-align: middle;\n",
       "    }\n",
       "\n",
       "    .dataframe tbody tr th {\n",
       "        vertical-align: top;\n",
       "    }\n",
       "\n",
       "    .dataframe thead th {\n",
       "        text-align: right;\n",
       "    }\n",
       "</style>\n",
       "<table border=\"1\" class=\"dataframe\">\n",
       "  <thead>\n",
       "    <tr style=\"text-align: right;\">\n",
       "      <th></th>\n",
       "      <th>speaker</th>\n",
       "      <th>comment count</th>\n",
       "    </tr>\n",
       "  </thead>\n",
       "  <tbody>\n",
       "    <tr>\n",
       "      <th>0</th>\n",
       "      <td>Gottfried Curio</td>\n",
       "      <td>523</td>\n",
       "    </tr>\n",
       "    <tr>\n",
       "      <th>1</th>\n",
       "      <td>Konstantin Kuhle</td>\n",
       "      <td>530</td>\n",
       "    </tr>\n",
       "    <tr>\n",
       "      <th>2</th>\n",
       "      <td>Timon Gremmels</td>\n",
       "      <td>530</td>\n",
       "    </tr>\n",
       "    <tr>\n",
       "      <th>3</th>\n",
       "      <td>Lars Castellucci</td>\n",
       "      <td>532</td>\n",
       "    </tr>\n",
       "    <tr>\n",
       "      <th>4</th>\n",
       "      <td>Caren Lay</td>\n",
       "      <td>545</td>\n",
       "    </tr>\n",
       "    <tr>\n",
       "      <th>5</th>\n",
       "      <td>Ulla Jelpke</td>\n",
       "      <td>547</td>\n",
       "    </tr>\n",
       "    <tr>\n",
       "      <th>6</th>\n",
       "      <td>Christian Lindner</td>\n",
       "      <td>552</td>\n",
       "    </tr>\n",
       "    <tr>\n",
       "      <th>7</th>\n",
       "      <td>Marc Jongen</td>\n",
       "      <td>564</td>\n",
       "    </tr>\n",
       "    <tr>\n",
       "      <th>8</th>\n",
       "      <td>Lothar Binding</td>\n",
       "      <td>574</td>\n",
       "    </tr>\n",
       "    <tr>\n",
       "      <th>9</th>\n",
       "      <td>Fabio Valeriano Lanfranco De Masi</td>\n",
       "      <td>602</td>\n",
       "    </tr>\n",
       "    <tr>\n",
       "      <th>10</th>\n",
       "      <td>Britta Haßelmann</td>\n",
       "      <td>617</td>\n",
       "    </tr>\n",
       "    <tr>\n",
       "      <th>11</th>\n",
       "      <td>Martin Sichert</td>\n",
       "      <td>617</td>\n",
       "    </tr>\n",
       "    <tr>\n",
       "      <th>12</th>\n",
       "      <td>Friedrich Straetmanns</td>\n",
       "      <td>623</td>\n",
       "    </tr>\n",
       "    <tr>\n",
       "      <th>13</th>\n",
       "      <td>Olaf Scholz</td>\n",
       "      <td>623</td>\n",
       "    </tr>\n",
       "    <tr>\n",
       "      <th>14</th>\n",
       "      <td>Stephan Brandner</td>\n",
       "      <td>666</td>\n",
       "    </tr>\n",
       "    <tr>\n",
       "      <th>15</th>\n",
       "      <td>Thorsten Frei</td>\n",
       "      <td>680</td>\n",
       "    </tr>\n",
       "    <tr>\n",
       "      <th>16</th>\n",
       "      <td>Sebastian Brehm</td>\n",
       "      <td>789</td>\n",
       "    </tr>\n",
       "    <tr>\n",
       "      <th>17</th>\n",
       "      <td>Volker Ullrich</td>\n",
       "      <td>880</td>\n",
       "    </tr>\n",
       "    <tr>\n",
       "      <th>18</th>\n",
       "      <td>Philipp Amthor</td>\n",
       "      <td>913</td>\n",
       "    </tr>\n",
       "    <tr>\n",
       "      <th>19</th>\n",
       "      <td>Helge Lindh</td>\n",
       "      <td>1207</td>\n",
       "    </tr>\n",
       "  </tbody>\n",
       "</table>\n",
       "</div>"
      ],
      "text/plain": [
       "                              speaker  comment count\n",
       "0                     Gottfried Curio            523\n",
       "1                    Konstantin Kuhle            530\n",
       "2                      Timon Gremmels            530\n",
       "3                    Lars Castellucci            532\n",
       "4                           Caren Lay            545\n",
       "5                         Ulla Jelpke            547\n",
       "6                   Christian Lindner            552\n",
       "7                         Marc Jongen            564\n",
       "8                      Lothar Binding            574\n",
       "9   Fabio Valeriano Lanfranco De Masi            602\n",
       "10                   Britta Haßelmann            617\n",
       "11                     Martin Sichert            617\n",
       "12              Friedrich Straetmanns            623\n",
       "13                        Olaf Scholz            623\n",
       "14                   Stephan Brandner            666\n",
       "15                      Thorsten Frei            680\n",
       "16                    Sebastian Brehm            789\n",
       "17                     Volker Ullrich            880\n",
       "18                     Philipp Amthor            913\n",
       "19                        Helge Lindh           1207"
      ]
     },
     "execution_count": 57,
     "metadata": {},
     "output_type": "execute_result"
    }
   ],
   "source": [
    "\n",
    "speakers = dataExtracted[\"main-speaker\"].dropna().unique()\n",
    "commentCountPerSpeaker = [{\"speaker\": speaker, \"comment count\": len(\n",
    "    getComments(dataExtracted, speakerFilter=speaker))} for speaker in speakers]\n",
    "\n",
    "# Only top n speakers\n",
    "n = 20\n",
    "mostCommentedSpeakers = sorted(\n",
    "    commentCountPerSpeaker, key=lambda s: s[\"comment count\"])[-n:]\n",
    "speakersDF = pd.DataFrame(data=mostCommentedSpeakers)\n",
    "speakersDF\n"
   ]
  },
  {
   "cell_type": "code",
   "execution_count": 58,
   "metadata": {},
   "outputs": [
    {
     "data": {
      "text/plain": [
       "Text(0, 0.5, 'comment count')"
      ]
     },
     "execution_count": 58,
     "metadata": {},
     "output_type": "execute_result"
    },
    {
     "data": {
      "image/png": "[encoded data removed]",
      "text/plain": [
       "<Figure size 825x509.878 with 1 Axes>"
      ]
     },
     "metadata": {
      "needs_background": "light"
     },
     "output_type": "display_data"
    }
   ],
   "source": [
    "ax = speakersDF.plot.bar(x=\"speaker\", y=\"comment count\",\n",
    "                         legend=False, color=\"orange\")\n",
    "ax.set_ylabel(\"comment count\")\n"
   ]
  },
  {
   "cell_type": "code",
   "execution_count": 59,
   "metadata": {},
   "outputs": [
    {
     "data": {
      "text/html": [
       "<div>\n",
       "<style scoped>\n",
       "    .dataframe tbody tr th:only-of-type {\n",
       "        vertical-align: middle;\n",
       "    }\n",
       "\n",
       "    .dataframe tbody tr th {\n",
       "        vertical-align: top;\n",
       "    }\n",
       "\n",
       "    .dataframe thead th {\n",
       "        text-align: right;\n",
       "    }\n",
       "</style>\n",
       "<table border=\"1\" class=\"dataframe\">\n",
       "  <thead>\n",
       "    <tr style=\"text-align: right;\">\n",
       "      <th></th>\n",
       "      <th>party</th>\n",
       "      <th>comment count</th>\n",
       "    </tr>\n",
       "  </thead>\n",
       "  <tbody>\n",
       "    <tr>\n",
       "      <th>0</th>\n",
       "      <td>Freie Demokratische Partei</td>\n",
       "      <td>16041</td>\n",
       "    </tr>\n",
       "    <tr>\n",
       "      <th>1</th>\n",
       "      <td>Die Linke</td>\n",
       "      <td>16316</td>\n",
       "    </tr>\n",
       "    <tr>\n",
       "      <th>2</th>\n",
       "      <td>Christlich Demokratische Union Deutschlands</td>\n",
       "      <td>26129</td>\n",
       "    </tr>\n",
       "    <tr>\n",
       "      <th>3</th>\n",
       "      <td>Bündnis 90/Die Grünen</td>\n",
       "      <td>16040</td>\n",
       "    </tr>\n",
       "    <tr>\n",
       "      <th>4</th>\n",
       "      <td>Alternative für Deutschland</td>\n",
       "      <td>21050</td>\n",
       "    </tr>\n",
       "    <tr>\n",
       "      <th>5</th>\n",
       "      <td>Sozialdemokratische Partei Deutschlands</td>\n",
       "      <td>26959</td>\n",
       "    </tr>\n",
       "    <tr>\n",
       "      <th>6</th>\n",
       "      <td>Christlich-Soziale Union in Bayern</td>\n",
       "      <td>9200</td>\n",
       "    </tr>\n",
       "    <tr>\n",
       "      <th>7</th>\n",
       "      <td>parteilos</td>\n",
       "      <td>1310</td>\n",
       "    </tr>\n",
       "    <tr>\n",
       "      <th>8</th>\n",
       "      <td>Partei für Arbeit, Rechtsstaat, Tierschutz, El...</td>\n",
       "      <td>78</td>\n",
       "    </tr>\n",
       "  </tbody>\n",
       "</table>\n",
       "</div>"
      ],
      "text/plain": [
       "                                               party  comment count\n",
       "0                         Freie Demokratische Partei          16041\n",
       "1                                          Die Linke          16316\n",
       "2        Christlich Demokratische Union Deutschlands          26129\n",
       "3                              Bündnis 90/Die Grünen          16040\n",
       "4                        Alternative für Deutschland          21050\n",
       "5            Sozialdemokratische Partei Deutschlands          26959\n",
       "6                 Christlich-Soziale Union in Bayern           9200\n",
       "7                                          parteilos           1310\n",
       "8  Partei für Arbeit, Rechtsstaat, Tierschutz, El...             78"
      ]
     },
     "execution_count": 59,
     "metadata": {},
     "output_type": "execute_result"
    }
   ],
   "source": [
    "parties = dataExtracted[\"main-speaker-party\"].dropna().unique()\n",
    "\n",
    "commentCountPerParty = [\n",
    "    len(getComments(dataExtracted, partyFilter=party)) for party in parties]\n",
    "\n",
    "partiesDF = pd.DataFrame(\n",
    "    data={\"party\": parties, \"comment count\": commentCountPerParty})\n",
    "partiesDF\n"
   ]
  },
  {
   "cell_type": "code",
   "execution_count": 60,
   "metadata": {},
   "outputs": [
    {
     "data": {
      "text/plain": [
       "Text(0, 0.5, 'comment count')"
      ]
     },
     "execution_count": 60,
     "metadata": {},
     "output_type": "execute_result"
    },
    {
     "name": "stderr",
     "output_type": "stream",
     "text": [
      "/home/lukas/anaconda3/lib/python3.8/site-packages/IPython/core/pylabtools.py:132: UserWarning: constrained_layout not applied.  At least one axes collapsed to zero width or height.\n",
      "  fig.canvas.print_figure(bytes_io, **kw)\n"
     ]
    },
    {
     "data": {
      "image/png": "[encoded data removed]",
      "text/plain": [
       "<Figure size 825x509.878 with 1 Axes>"
      ]
     },
     "metadata": {
      "needs_background": "light"
     },
     "output_type": "display_data"
    }
   ],
   "source": [
    "ax = partiesDF.plot.bar(x=\"party\", y=\"comment count\", legend=False)\n",
    "ax.set_ylabel(\"comment count\")\n"
   ]
  }
 ],
 "metadata": {
  "interpreter": {
   "hash": "911161dd0f506fd9385acd560a1bd859180a28996c5db4ae52d346c7438a3751"
  },
  "kernelspec": {
   "display_name": "Python 3.8.12 64-bit ('dl': conda)",
   "language": "python",
   "name": "python3"
  },
  "language_info": {
   "codemirror_mode": {
    "name": "ipython",
    "version": 3
   },
   "file_extension": ".py",
   "mimetype": "text/x-python",
   "name": "python",
   "nbconvert_exporter": "python",
   "pygments_lexer": "ipython3",
   "version": "3.8.3"
  },
  "orig_nbformat": 4
 },
 "nbformat": 4,
 "nbformat_minor": 2
}
